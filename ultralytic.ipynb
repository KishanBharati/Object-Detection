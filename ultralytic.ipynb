{
 "cells": [
  {
   "cell_type": "code",
   "execution_count": 1,
   "metadata": {},
   "outputs": [],
   "source": [
    "from ultralytics import YOLO"
   ]
  },
  {
   "cell_type": "code",
   "execution_count": 10,
   "metadata": {},
   "outputs": [
    {
     "name": "stdout",
     "output_type": "stream",
     "text": [
      "\n",
      "image 1/1 C:\\Users\\anuku\\OneDrive\\Desktop\\cat.jpeg: 416x640 1 cat, 1143.4ms\n",
      "Speed: 7.3ms preprocess, 1143.4ms inference, 16.1ms postprocess per image at shape (1, 3, 416, 640)\n"
     ]
    }
   ],
   "source": [
    "model = YOLO('yolov9c.pt')\n",
    "result = model.predict(r\"C:\\Users\\anuku\\OneDrive\\Desktop\\cat.jpeg\")\n",
    "result[0].show()"
   ]
  },
  {
   "cell_type": "code",
   "execution_count": 5,
   "metadata": {},
   "outputs": [
    {
     "name": "stdout",
     "output_type": "stream",
     "text": [
      "Empty\n"
     ]
    }
   ],
   "source": [
    "txt=''\n",
    "print(txt or \"Empty\")"
   ]
  },
  {
   "cell_type": "code",
   "execution_count": 9,
   "metadata": {},
   "outputs": [
    {
     "name": "stdout",
     "output_type": "stream",
     "text": [
      "True\n"
     ]
    }
   ],
   "source": [
    "s=0\n",
    "print(not s)"
   ]
  },
  {
   "cell_type": "markdown",
   "metadata": {},
   "source": [
    "# below code is for detecting object and saving the detected image"
   ]
  },
  {
   "cell_type": "code",
   "execution_count": null,
   "metadata": {},
   "outputs": [],
   "source": [
    "import streamlit as st\n",
    "from ultralytics import YOLO\n",
    "import cv2\n",
    "import numpy as np\n",
    "from PIL import Image\n",
    "\n",
    "# Load the YOLO model\n",
    "model = YOLO('yolov9c.pt')  # Path to your YOLOv9 model weights\n",
    "\n",
    "# Streamlit app title\n",
    "st.title(\"Object Detection with YOLOv9\")\n",
    "\n",
    "# Layout settings for a responsive design\n",
    "st.markdown(\"\"\"\n",
    "    <style>\n",
    "        body {\n",
    "            background-color: #f0f2f6;\n",
    "            font-family: Arial, sans-serif;\n",
    "        }\n",
    "        .stImage {\n",
    "            border: 2px solid #ddd;\n",
    "            border-radius: 8px;\n",
    "            padding: 5px;\n",
    "            box-shadow: 0 4px 8px rgba(0, 0, 0, 0.1);\n",
    "        }\n",
    "        .stButton {\n",
    "            font-size: 18px;\n",
    "            padding: 10px 20px;\n",
    "            background-color: #4CAF50;\n",
    "            color: white;\n",
    "            border-radius: 5px;\n",
    "            margin-top: 10px;\n",
    "        }\n",
    "    </style>\n",
    "\"\"\", unsafe_allow_html=True)\n",
    "\n",
    "# Sidebar for user instructions\n",
    "st.sidebar.title(\"Instructions\")\n",
    "st.sidebar.write(\"\"\"\n",
    "    1. Upload an image for object detection.\n",
    "    2. Click on \"Detect Objects\" to see the results.\n",
    "    3. The detected objects will be shown on the image.\n",
    "\"\"\")\n",
    "\n",
    "# Upload image\n",
    "uploaded_file = st.file_uploader(\"Choose an image...\", type=[\"jpeg\", \"jpg\", \"png\"])\n",
    "\n",
    "# Run the object detection when the user uploads an image and clicks the button\n",
    "if uploaded_file is not None:\n",
    "    # Open the image using PIL\n",
    "    img = Image.open(uploaded_file)\n",
    "\n",
    "    # Show the uploaded image in Streamlit with custom styling using markdown\n",
    "    st.markdown('<div class=\"stImage\"></div>', unsafe_allow_html=True)  # This will apply the custom styling to the image\n",
    "    st.image(img, caption=\"Uploaded Image\", use_column_width=True)\n",
    "\n",
    "    # Convert the uploaded image to a format YOLO can work with (numpy array)\n",
    "    img_array = np.array(img)\n",
    "    \n",
    "    # Perform object detection\n",
    "    result = model.predict(img_array)\n",
    "\n",
    "    # Display the results\n",
    "    result[0].show()  # Display image with bounding boxes (YOLO's prediction result)\n",
    "\n",
    "    # Save and display the output image\n",
    "    output_image = result[0].plot()  # You can customize the plot\n",
    "    st.image(output_image, caption=\"Detected Objects\", use_column_width=True)\n",
    "\n",
    "    # Optionally, you can provide a download link\n",
    "    output_file = \"output_detected_image.png\"\n",
    "    cv2.imwrite(output_file, output_image)\n",
    "    with open(output_file, \"rb\") as file:\n",
    "        st.download_button(label=\"Download Result Image\", data=file, file_name=output_file)\n"
   ]
  }
 ],
 "metadata": {
  "kernelspec": {
   "display_name": "base",
   "language": "python",
   "name": "python3"
  },
  "language_info": {
   "codemirror_mode": {
    "name": "ipython",
    "version": 3
   },
   "file_extension": ".py",
   "mimetype": "text/x-python",
   "name": "python",
   "nbconvert_exporter": "python",
   "pygments_lexer": "ipython3",
   "version": "3.9.12"
  }
 },
 "nbformat": 4,
 "nbformat_minor": 2
}
